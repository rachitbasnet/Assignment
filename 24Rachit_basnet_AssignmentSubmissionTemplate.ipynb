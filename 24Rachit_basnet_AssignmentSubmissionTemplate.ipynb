{
  "nbformat": 4,
  "nbformat_minor": 0,
  "metadata": {
    "colab": {
      "provenance": []
    },
    "kernelspec": {
      "name": "python3",
      "display_name": "Python 3"
    },
    "language_info": {
      "name": "python"
    }
  },
  "cells": [
    {
      "cell_type": "markdown",
      "source": [
        "# Assignment-1 Frequency Analysis and Bag of Words\n",
        "\n",
        "## Objective\n",
        "- Learn the keywords of NLP\n",
        "- Understand basic of NLP\n",
        "- Explore the Bag of words for basic analysis of text\n",
        "\n"
      ],
      "metadata": {
        "id": "LnRKTrs9pd8O"
      }
    },
    {
      "cell_type": "markdown",
      "source": [
        "## Your Details\n"
      ],
      "metadata": {
        "id": "QkBBpsTNqQnD"
      }
    },
    {
      "cell_type": "code",
      "source": [
        "import datetime\n",
        "\n",
        "student_rollno = 24\n",
        "student_name = 'Rachit Basnet'\n",
        "assignment_tag = 'MDS555-2023-Assignment-1'"
      ],
      "metadata": {
        "id": "BpF9fjJuqXBt"
      },
      "execution_count": null,
      "outputs": []
    },
    {
      "cell_type": "code",
      "source": [
        "# from checker_utils import done\n",
        "def done(task):\n",
        "    _date = datetime.datetime.now()\n",
        "    task = task + \": \" + str(_date)\n",
        "    print('='*len(task), '\\n', task , '\\n', '='*len(task), sep='')\n",
        "    pass"
      ],
      "metadata": {
        "id": "oAyWHgZIr8Et"
      },
      "execution_count": null,
      "outputs": []
    },
    {
      "cell_type": "markdown",
      "source": [
        "## Literature Review\n",
        "- Put your review of the literature related to Frequency analysis and bag of words\n",
        "- define terminologies used\n",
        "- put details of the library used\n",
        "\n"
      ],
      "metadata": {
        "id": "LWnpPiiRp7QL"
      }
    },
    {
      "cell_type": "markdown",
      "source": [
        "## Task 1: Dataset Preparation:\n",
        "\n",
        "Prepare the Nepali news dataset *(hint: you can obtain text from news websites, at least 20 different news of 2/3 different categories)*. Host the dataset in the public git repository."
      ],
      "metadata": {
        "id": "B9bq4oXes_E-"
      }
    },
    {
      "cell_type": "code",
      "source": [
        "# Task 1:Dataset preparation:\n",
        "import pandas as pd\n",
        "!git clone https://github.com/rachitbasnet/Assignment.git\n",
        "#Load dataset\n",
        "df =pd.read_csv('/content/Assignment/news for nlp3.csv')\n",
        "print(df)"
      ],
      "metadata": {
        "id": "eJPOguP3pdg2",
        "colab": {
          "base_uri": "https://localhost:8080/"
        },
        "outputId": "90b00f1c-4a96-46b8-ad81-e5b07dbff771"
      },
      "execution_count": 3,
      "outputs": [
        {
          "output_type": "stream",
          "name": "stdout",
          "text": [
            "fatal: destination path 'Assignment' already exists and is not an empty directory.\n",
            "    Sn Catogory                                               News\n",
            "0    1  Finance  मूल्यवृद्धिसँगै अब काठमाडौंमा पेट्रोल प्रतिलिट...\n",
            "1    2  Finance  सरकारले पेट्रोलियम पदार्थको मूल्य फेरि बढाएको ...\n",
            "2    3  Finance  हालसम्म ४ वाणिज्य बैंकहरुले गत आर्थिक वर्षको न...\n",
            "3    4  Finance  चालु आर्थिक वर्षको पहिलो महिना साउनमा मुलुकबाट...\n",
            "4    5  Opinion  नेपाली राजनीति र साहित्यमा सबैभन्दा धेरै एकैसा...\n",
            "5    6  Opinion  पत्रकार रमेशकुमारले हिमालखबरमा अघिल्लो साता आक...\n",
            "6    7  Opinion  बिरामीको उपचारमा लापरबाही गरेको आरोप लगाउँदै ब...\n",
            "7    8  Opinion  नेपालको राजनीतिमा अचेल सबै ठूला दलका नेताहरू ए...\n",
            "8    9  Finance  जिल्लाको उत्तरी भेगमा भएर बग्ने कालीगण्डकी नदी...\n",
            "9   10  Finance   नेपाल धितोपत्र बोर्ड (सेबोन) ले ब्रोकर कमिसन ...\n",
            "10  11  Finance   एक अर्ब रुपैयाँभन्दा बढी चुक्ता पुँजी भएका कम...\n",
            "11  12  Finance  भारतको सबैभन्दा ठूलो वायुसेवा कम्पनी इन्डिगोले...\n",
            "12  13  Finance  सरकारले निजी क्षेत्रलाई लगानीको वातावरण तयार प...\n",
            "13  14  Finance  काठमाडौं तराई/मधेश द्रुतमार्ग (फास्ट ट्र्याक) ...\n",
            "14  15  Finance  नेपाललाई मेला, सभा/सम्मेलन तथा विवाह गन्तव्यका...\n",
            "15  16  Finance  लुम्बिनीमा ९ लाख ७४ हजार ३ सय ८१ हेक्टर वन क्ष...\n",
            "16  17   Sports  एसियाली खेलकुदमा ई–स्पोर्ट्सले पहिलोपल्ट प्रवे...\n",
            "17  18   Sports  चीनले फेरि एकपल्ट आफ्नो भूमिमा हुने १९ औं एसिय...\n",
            "18  19   Sports  इजरायलको महिला फुटबल लिगमा हापोएल रानानाबाट खे...\n",
            "19  20   Sports  पुलिसकी शुभाङ्गी श्रेष्ठले ११ औं कोरियन एम्बास...\n"
          ]
        }
      ]
    },
    {
      "cell_type": "code",
      "execution_count": null,
      "metadata": {
        "id": "FV8206thpbmo",
        "colab": {
          "base_uri": "https://localhost:8080/"
        },
        "outputId": "506121c1-fa4e-4167-b5f9-61f429ca9b6a"
      },
      "outputs": [
        {
          "output_type": "stream",
          "name": "stdout",
          "text": [
            "==================================\n",
            "Task 1: 2023-09-02 02:03:00.053374\n",
            "==================================\n"
          ]
        }
      ],
      "source": []
    },
    {
      "cell_type": "markdown",
      "source": [
        "## Task  2.1: Frequency Analysis\n",
        "\n",
        "Perform the frequency analysis on the text collected"
      ],
      "metadata": {
        "id": "zUE4li1lt1Aj"
      }
    },
    {
      "cell_type": "code",
      "source": [
        "# Task 2.1:Frequency Analysis\n",
        "import matplotlib.pyplot as plt\n",
        "import nltk\n",
        "from nltk import FreqDist, word_tokenize\n",
        "\n",
        "nltk.download('punkt')"
      ],
      "metadata": {
        "id": "srs4zKYVt1Ao",
        "colab": {
          "base_uri": "https://localhost:8080/"
        },
        "outputId": "cb2b2381-0668-4852-be52-8cb812042ac8"
      },
      "execution_count": 4,
      "outputs": [
        {
          "output_type": "stream",
          "name": "stderr",
          "text": [
            "[nltk_data] Downloading package punkt to /root/nltk_data...\n",
            "[nltk_data]   Unzipping tokenizers/punkt.zip.\n"
          ]
        },
        {
          "output_type": "execute_result",
          "data": {
            "text/plain": [
              "True"
            ]
          },
          "metadata": {},
          "execution_count": 4
        }
      ]
    },
    {
      "cell_type": "code",
      "source": [
        "#Tokenize the text\n",
        "tokens = df['News'].apply(nltk.word_tokenize)\n",
        "\n",
        "# Flatten the list of tokens\n",
        "all_tokens = [token for sublist in tokens for token in sublist]\n",
        "\n",
        "print(len(all_tokens))"
      ],
      "metadata": {
        "colab": {
          "base_uri": "https://localhost:8080/"
        },
        "id": "dWj2rygdn1kI",
        "outputId": "dc6fa893-a110-407a-83ba-8a8d5076ff87"
      },
      "execution_count": 6,
      "outputs": [
        {
          "output_type": "stream",
          "name": "stdout",
          "text": [
            "864\n"
          ]
        }
      ]
    },
    {
      "cell_type": "code",
      "source": [
        "# Calculate word frequencies\n",
        "freq_dist = FreqDist(all_tokens)\n",
        "\n",
        "# Print the top 20 most common words\n",
        "print(freq_dist.most_common(20))\n",
        "# Get the most common 20 words and their frequencies\n",
        "n = 20\n",
        "common_words = freq_dist.most_common(n)\n",
        "words, frequencies = zip(*common_words)"
      ],
      "metadata": {
        "colab": {
          "base_uri": "https://localhost:8080/"
        },
        "id": "rIvR7wUtoFLu",
        "outputId": "a8c7a058-1e39-4efa-a74f-febf94ac28dd"
      },
      "execution_count": 19,
      "outputs": [
        {
          "output_type": "stream",
          "name": "stdout",
          "text": [
            "[('।', 42), ('छ', 21), ('र', 17), ('गरेको', 10), ('भएको', 10), ('(', 10), (')', 10), ('रुपैयाँ', 8), ('आर्थिक', 7), (',', 7), ('छन्', 6), ('नेपाल', 6), ('हजार', 6), ('गर्न', 6), ('प्रतिलिटर', 5), ('मूल्य', 5), ('हुने', 5), ('लागि', 5), ('पेट्रोल', 4), ('गर्ने', 4)]\n"
          ]
        }
      ]
    },
    {
      "cell_type": "code",
      "source": [
        "\n",
        "import matplotlib.font_manager as font_manager\n",
        "\n",
        "nep_font_prop = font_manager.FontProperties(fname=\"/content/Assignment/Mangal Regular.otf\", size=12)\n",
        "eng_font_properties = font_manager.FontProperties(family='serif', size=12)\n",
        "plt.rcParams['font.family'] = 'serif'\n",
        "\n",
        "#plot word frequency distribution\n",
        "plt.figure(figsize=(12,6))\n",
        "plt.bar(words,frequencies)\n",
        "plt.title('Top 20 Most Common Words in Nepali News Data')\n",
        "plt.xticks(rotation=40)\n",
        "plt.xlabel('Word')\n",
        "plt.ylabel('Frequency')\n",
        "plt.xticks(fontproperties=nep_font_prop)\n",
        "plt.yticks(fontproperties=nep_font_prop)\n",
        "plt.show()"
      ],
      "metadata": {
        "colab": {
          "base_uri": "https://localhost:8080/",
          "height": 610
        },
        "id": "PdDbC4uNoFPQ",
        "outputId": "92d3d379-adee-4727-81c0-1e539b2598f6"
      },
      "execution_count": 20,
      "outputs": [
        {
          "output_type": "display_data",
          "data": {
            "text/plain": [
              "<Figure size 1200x600 with 1 Axes>"
            ],
            "image/png": "[encoded data removed]"
          },
          "metadata": {}
        }
      ]
    },
    {
      "cell_type": "code",
      "execution_count": null,
      "metadata": {
        "id": "A8cv8IuTt1Ap",
        "colab": {
          "base_uri": "https://localhost:8080/"
        },
        "outputId": "cd475825-803f-4efd-d243-dabaacd16d01"
      },
      "outputs": [
        {
          "output_type": "stream",
          "name": "stdout",
          "text": [
            "====================================\n",
            "Task 2.1: 2023-09-02 02:03:00.077236\n",
            "====================================\n"
          ]
        }
      ],
      "source": [
        "done('Task 2.1')"
      ]
    },
    {
      "cell_type": "markdown",
      "source": [
        "## Task  2.2: Filter Stop words\n",
        "\n",
        "Improve Performance analysis by filtering stop words (you can also develop rule based )\n"
      ],
      "metadata": {
        "id": "Q1h3Hpzit1RZ"
      }
    },
    {
      "cell_type": "code",
      "source": [
        "nltk.download('stopwords')\n",
        "from nltk.corpus import stopwords\n",
        "\n",
        "# Load the list of Nepali stop words\n",
        "nepali_stop_words = set(stopwords.words('nepali'))\n",
        "print(nepali_stop_words)\n",
        "other_characters = ['।',',','।','–','‘’','()','(',')', 'छ।','र','पनि','छन्', 'गरेको','भएको','गरिएको','हो।','गर्न', 'गर्ने', 'एउटा','‘','रहेको','भने','गरेका','हुने','।','३','थियो','गत','गर्दै']"
      ],
      "metadata": {
        "id": "bwjPTC2Ht1Rb",
        "colab": {
          "base_uri": "https://localhost:8080/"
        },
        "outputId": "49e6a8f5-ca0a-452f-d3e1-0858ff08cb8a"
      },
      "execution_count": 21,
      "outputs": [
        {
          "output_type": "stream",
          "name": "stdout",
          "text": [
            "{'आजको', 'आफ्नै', 'लाई', 'चाहन्छु', 'हुन', 'भन्छु', 'भित्र', 'वास्तवमा', 'तिनी', 'भित्री', 'आत्म', 'हुन्छ', 'यो', 'जसबाट', 'पहिले', 'बरु', 'देखेर', 'साथै', 'तपाईको', 'पनि', 'अझै', 'सक्छ', 'भने', 'प्लस', 'तिनिहरुलाई', 'राख्छ', 'हरेक', 'भए', 'यस', 'भन्दा', 'उनको', 'गरी', 'तदनुसार', 'तापनी', 'रही', 'सायद', 'नजिकै', 'स्पष्ट', 'हुने', 'आफ्नो', 'गरि', 'गैर', 'नौ', 'कोही', 'भन्ने', 'जो', 'कसरी', 'समय', 'उदाहरण', 'पूर्व', 'माथि', 'यहाँ', 'दोस्रो', 'सबै', 'राम्रो', 'जान', 'रहेको', 'अरु', 'जस्तोसुकै', 'संग', 'कतै', 'त्सपछि', 'रहेका', 'त्यहाँ', 'आफू', 'धेरै', 'गर्दै', 'सबैलाई', 'जसलाई', 'सही', 'थिएन', 'पर्याप्त', 'कुनै', 'भन्', 'गयौ', 'जताततै', 'आफूलाई', 'कि', 'पक्का', 'सम्भव', 'छु', 'पछि', 'सधै', 'अब', 'अन्य', 'मुख्य', 'बिरुद्ध', 'कसैले', 'भन्नुभयो', 'चाहनुहुन्छ', 'गर्छ', 'पहिलो', 'बीच', 'निम्न', 'मात्र', 'तेस्रो', 'को', 'उनले', 'गरेर', 'यद्यपि', 'या', 'उप', 'दुई', 'मलाई', 'देखि', 'ती', 'पर्छ', 'कम से कम', 'यदि', 'दिनुहुन्छ', 'र', 'तिर', 'का', 'किन', 'तुरुन्तै', 'प्रति', 'शायद', 'सम्म', 'गर्नुपर्छ', 'चार', 'साँच्चै', 'यी', 'ओठ', 'तीन', 'साथ', 'एक', 'अर्थात', 'एकदम', 'ले', 'पक्कै', 'देखे', 'नत्र', 'निम्नानुसार', 'म', 'अर्को', 'तिमी', 'पटक', 'औं', 'भन', 'यसो', 'तेस्कारण', 'वरीपरी', 'बीचमा', 'पछिल्लो', 'कृपया', 'उहालाई', 'गरौं', 'राखे', 'संगै', 'अक्सर', 'देखियो', 'जसले', 'केही', 'त्सैले', 'अर्थात्', 'गरेका', 'गर्छु', 'देखिन्छ', 'निर्दिष्ट', 'अलग', 'तिनीहरुको', 'जहाँ', 'बिशेष', 'हरे', 'गरेको', 'नि', 'यसरी', 'यसको', 'यसपछि', 'दिए', 'तपाई', 'के', 'कुरा', 'मेरो', 'जे', 'एउटै', 'छू', 'तत्काल', 'देखेको', 'बने', 'त्यो', 'जस्तै', 'कहाँबाट', 'गए', 'छौं', 'छ', 'अनुसार', 'न', 'चाहिए', 'यथोचित', 'हुन्', 'थियो', 'आयो', 'थिए', 'तथा', 'पाँचौं', 'किनभने', 'सात', 'क्रमशः', 'जसको', 'बारे', 'बाहिर', 'भन्छन्', 'तिनीहरू', 'यस्तो', 'आदि', 'मा', 'पहिल्यै', 'जसमा', 'नै', 'नयाँ', 'निम्ति', 'चाले', 'रूप', 'जाहिर', 'गर्न', 'हो', 'छन्', 'कसै', 'पर्थ्यो', 'ठीक', 'आए', 'फेरी', 'दिनुभएको', 'तर', 'त', 'सट्टा', 'कहिलेकाहीं', 'जब', 'छैन', 'जबकि', 'यहाँसम्म', 'अरुलाई', 'जस्तो', 'भएको', 'जुन', 'अन्यथा', 'प्रतेक', 'अन्तर्गत', 'गर्ने', 'बाहेक', 'गर्नु', 'सारा', 'सो', 'भर', 'सोही', 'लागि', 'अन्यत्र', 'तल', 'लगभग', 'यसबाहेक', 'पाँच', 'यति', 'अगाडी'}\n"
          ]
        },
        {
          "output_type": "stream",
          "name": "stderr",
          "text": [
            "[nltk_data] Downloading package stopwords to /root/nltk_data...\n",
            "[nltk_data]   Package stopwords is already up-to-date!\n"
          ]
        }
      ]
    },
    {
      "cell_type": "code",
      "source": [
        "filter_words = list(nepali_stop_words) + list(other_characters)\n",
        "print(filter_words)\n",
        "\n",
        "tokens = []\n",
        "for token in all_tokens:\n",
        "    if token not in filter_words:\n",
        "        tokens.append(token)\n",
        "print(len(tokens))\n",
        "\n",
        "\n",
        "# Calculate word frequencies\n",
        "freq_dist = FreqDist(tokens)\n",
        "\n",
        "# Print the top 20 most common words\n",
        "print(freq_dist.most_common(20))\n",
        "# Get the most common 20 words and their frequencies\n",
        "n = 20\n",
        "common_words = freq_dist.most_common(n)\n",
        "words, frequencies = zip(*common_words)"
      ],
      "metadata": {
        "colab": {
          "base_uri": "https://localhost:8080/"
        },
        "id": "9sXK-I78qFLK",
        "outputId": "cb7cac54-1e06-4c7d-a321-493939d5de06"
      },
      "execution_count": 24,
      "outputs": [
        {
          "output_type": "stream",
          "name": "stdout",
          "text": [
            "['आजको', 'आफ्नै', 'लाई', 'चाहन्छु', 'हुन', 'भन्छु', 'भित्र', 'वास्तवमा', 'तिनी', 'भित्री', 'आत्म', 'हुन्छ', 'यो', 'जसबाट', 'पहिले', 'बरु', 'देखेर', 'साथै', 'तपाईको', 'पनि', 'अझै', 'सक्छ', 'भने', 'प्लस', 'तिनिहरुलाई', 'राख्छ', 'हरेक', 'भए', 'यस', 'भन्दा', 'उनको', 'गरी', 'तदनुसार', 'तापनी', 'रही', 'सायद', 'नजिकै', 'स्पष्ट', 'हुने', 'आफ्नो', 'गरि', 'गैर', 'नौ', 'कोही', 'भन्ने', 'जो', 'कसरी', 'समय', 'उदाहरण', 'पूर्व', 'माथि', 'यहाँ', 'दोस्रो', 'सबै', 'राम्रो', 'जान', 'रहेको', 'अरु', 'जस्तोसुकै', 'संग', 'कतै', 'त्सपछि', 'रहेका', 'त्यहाँ', 'आफू', 'धेरै', 'गर्दै', 'सबैलाई', 'जसलाई', 'सही', 'थिएन', 'पर्याप्त', 'कुनै', 'भन्', 'गयौ', 'जताततै', 'आफूलाई', 'कि', 'पक्का', 'सम्भव', 'छु', 'पछि', 'सधै', 'अब', 'अन्य', 'मुख्य', 'बिरुद्ध', 'कसैले', 'भन्नुभयो', 'चाहनुहुन्छ', 'गर्छ', 'पहिलो', 'बीच', 'निम्न', 'मात्र', 'तेस्रो', 'को', 'उनले', 'गरेर', 'यद्यपि', 'या', 'उप', 'दुई', 'मलाई', 'देखि', 'ती', 'पर्छ', 'कम से कम', 'यदि', 'दिनुहुन्छ', 'र', 'तिर', 'का', 'किन', 'तुरुन्तै', 'प्रति', 'शायद', 'सम्म', 'गर्नुपर्छ', 'चार', 'साँच्चै', 'यी', 'ओठ', 'तीन', 'साथ', 'एक', 'अर्थात', 'एकदम', 'ले', 'पक्कै', 'देखे', 'नत्र', 'निम्नानुसार', 'म', 'अर्को', 'तिमी', 'पटक', 'औं', 'भन', 'यसो', 'तेस्कारण', 'वरीपरी', 'बीचमा', 'पछिल्लो', 'कृपया', 'उहालाई', 'गरौं', 'राखे', 'संगै', 'अक्सर', 'देखियो', 'जसले', 'केही', 'त्सैले', 'अर्थात्', 'गरेका', 'गर्छु', 'देखिन्छ', 'निर्दिष्ट', 'अलग', 'तिनीहरुको', 'जहाँ', 'बिशेष', 'हरे', 'गरेको', 'नि', 'यसरी', 'यसको', 'यसपछि', 'दिए', 'तपाई', 'के', 'कुरा', 'मेरो', 'जे', 'एउटै', 'छू', 'तत्काल', 'देखेको', 'बने', 'त्यो', 'जस्तै', 'कहाँबाट', 'गए', 'छौं', 'छ', 'अनुसार', 'न', 'चाहिए', 'यथोचित', 'हुन्', 'थियो', 'आयो', 'थिए', 'तथा', 'पाँचौं', 'किनभने', 'सात', 'क्रमशः', 'जसको', 'बारे', 'बाहिर', 'भन्छन्', 'तिनीहरू', 'यस्तो', 'आदि', 'मा', 'पहिल्यै', 'जसमा', 'नै', 'नयाँ', 'निम्ति', 'चाले', 'रूप', 'जाहिर', 'गर्न', 'हो', 'छन्', 'कसै', 'पर्थ्यो', 'ठीक', 'आए', 'फेरी', 'दिनुभएको', 'तर', 'त', 'सट्टा', 'कहिलेकाहीं', 'जब', 'छैन', 'जबकि', 'यहाँसम्म', 'अरुलाई', 'जस्तो', 'भएको', 'जुन', 'अन्यथा', 'प्रतेक', 'अन्तर्गत', 'गर्ने', 'बाहेक', 'गर्नु', 'सारा', 'सो', 'भर', 'सोही', 'लागि', 'अन्यत्र', 'तल', 'लगभग', 'यसबाहेक', 'पाँच', 'यति', 'अगाडी', '।', ',', '।', '–', '‘’', '()', '(', ')', 'छ।', 'र', 'पनि', 'छन्', 'गरेको', 'भएको', 'गरिएको', 'हो।', 'गर्न', 'गर्ने', 'एउटा', '‘', 'रहेको', 'भने', 'गरेका', 'हुने', '।', '३', 'थियो', 'गत', 'गर्दै']\n",
            "633\n",
            "[('रुपैयाँ', 8), ('आर्थिक', 7), ('नेपाल', 6), ('हजार', 6), ('प्रतिलिटर', 5), ('मूल्य', 5), ('पेट्रोल', 4), ('लाख', 4), ('तयारी', 4), ('संशोधन', 4), ('१', 3), ('शुक्रबार', 3), ('सरकारले', 3), ('वर्षको', 3), ('करोड', 3), ('बराबरको', 3), ('सय', 3), ('निर्यात', 3), ('आयोजना', 3), ('धितोपत्र', 3)]\n"
          ]
        }
      ]
    },
    {
      "cell_type": "code",
      "source": [
        "#plot word frequency distribution\n",
        "plt.figure(figsize=(12,6))\n",
        "plt.bar(words,frequencies)\n",
        "plt.title('Top 20 Most Common Words in Nepali News Data')\n",
        "plt.xticks(rotation=50)\n",
        "plt.xlabel('Word')\n",
        "plt.ylabel('Frequency')\n",
        "plt.xticks(fontproperties=nep_font_prop)\n",
        "plt.yticks(fontproperties=nep_font_prop)\n",
        "plt.show()"
      ],
      "metadata": {
        "colab": {
          "base_uri": "https://localhost:8080/",
          "height": 616
        },
        "id": "Xwm_omU0qp_p",
        "outputId": "8ae9e2fe-162d-4f7e-9e4e-fa0412396069"
      },
      "execution_count": 25,
      "outputs": [
        {
          "output_type": "display_data",
          "data": {
            "text/plain": [
              "<Figure size 1200x600 with 1 Axes>"
            ],
            "image/png": "[encoded data removed]"
          },
          "metadata": {}
        }
      ]
    },
    {
      "cell_type": "code",
      "execution_count": null,
      "metadata": {
        "id": "i48GmStrt1Rb",
        "colab": {
          "base_uri": "https://localhost:8080/"
        },
        "outputId": "00aedc06-6965-47dd-8d13-00fa32f47d2e"
      },
      "outputs": [
        {
          "output_type": "stream",
          "name": "stdout",
          "text": [
            "====================================\n",
            "Task 2.2: 2023-09-02 02:03:00.100074\n",
            "====================================\n"
          ]
        }
      ],
      "source": [
        "done('Task 2.2')"
      ]
    },
    {
      "cell_type": "markdown",
      "source": [
        "## Task 3: BoW\n",
        "\n",
        "Task 3: BoW: Prepare Bag of Words (BoW) from the dataset\n"
      ],
      "metadata": {
        "id": "vzB9KKCft1m4"
      }
    },
    {
      "cell_type": "code",
      "source": [
        "import pandas as pd\n",
        "from sklearn.feature_extraction.text import CountVectorizer\n",
        "\n",
        "\n",
        "# Create a CountVectorizer object\n",
        "vectorizer = CountVectorizer()\n",
        "\n",
        "# Fit and transform the text data to create the BoW representation\n",
        "X_bow = vectorizer.fit_transform(df['News'])\n",
        "\n",
        "# Convert the BoW representation to a DataFrame with feature names\n",
        "bow_df = pd.DataFrame(X_bow.toarray(), columns=vectorizer.get_feature_names_out())\n",
        "\n",
        "# Now, bow_df contains your Bag of Words representation\n",
        "bow_df.head()"
      ],
      "metadata": {
        "id": "8QopY4_5t1m5",
        "colab": {
          "base_uri": "https://localhost:8080/",
          "height": 236
        },
        "outputId": "e3a6986d-f102-4289-f0b9-b41e61e3543f"
      },
      "execution_count": 27,
      "outputs": [
        {
          "output_type": "execute_result",
          "data": {
            "text/plain": [
              "   अघ  अच  अझ  अत  अध  अन  अब  अभ  अर  अवस  ...  ५९  ६५  ७०  ७२  ७३  ७४  ८१  \\\n",
              "0   0   0   0   0   0   0   1   0   0    0  ...   0   0   0   0   0   0   0   \n",
              "1   0   0   0   0   0   0   0   0   0    0  ...   0   0   0   0   0   0   0   \n",
              "2   0   0   0   0   0   1   0   0   0    0  ...   0   0   0   0   0   0   0   \n",
              "3   0   0   0   0   0   0   0   0   0    0  ...   0   1   0   0   1   0   0   \n",
              "4   0   0   0   0   0   0   0   0   0    0  ...   0   0   0   0   0   0   0   \n",
              "\n",
              "   ८९  ९१  ९७७  \n",
              "0   0   1    0  \n",
              "1   0   0    0  \n",
              "2   0   0    0  \n",
              "3   1   0    0  \n",
              "4   0   0    0  \n",
              "\n",
              "[5 rows x 292 columns]"
            ],
            "text/html": [
              "\n",
              "  <div id=\"df-107c80c6-4c5b-4217-980e-d6144f56e769\" class=\"colab-df-container\">\n",
              "    <div>\n",
              "<style scoped>\n",
              "    .dataframe tbody tr th:only-of-type {\n",
              "        vertical-align: middle;\n",
              "    }\n",
              "\n",
              "    .dataframe tbody tr th {\n",
              "        vertical-align: top;\n",
              "    }\n",
              "\n",
              "    .dataframe thead th {\n",
              "        text-align: right;\n",
              "    }\n",
              "</style>\n",
              "<table border=\"1\" class=\"dataframe\">\n",
              "  <thead>\n",
              "    <tr style=\"text-align: right;\">\n",
              "      <th></th>\n",
              "      <th>अघ</th>\n",
              "      <th>अच</th>\n",
              "      <th>अझ</th>\n",
              "      <th>अत</th>\n",
              "      <th>अध</th>\n",
              "      <th>अन</th>\n",
              "      <th>अब</th>\n",
              "      <th>अभ</th>\n",
              "      <th>अर</th>\n",
              "      <th>अवस</th>\n",
              "      <th>...</th>\n",
              "      <th>५९</th>\n",
              "      <th>६५</th>\n",
              "      <th>७०</th>\n",
              "      <th>७२</th>\n",
              "      <th>७३</th>\n",
              "      <th>७४</th>\n",
              "      <th>८१</th>\n",
              "      <th>८९</th>\n",
              "      <th>९१</th>\n",
              "      <th>९७७</th>\n",
              "    </tr>\n",
              "  </thead>\n",
              "  <tbody>\n",
              "    <tr>\n",
              "      <th>0</th>\n",
              "      <td>0</td>\n",
              "      <td>0</td>\n",
              "      <td>0</td>\n",
              "      <td>0</td>\n",
              "      <td>0</td>\n",
              "      <td>0</td>\n",
              "      <td>1</td>\n",
              "      <td>0</td>\n",
              "      <td>0</td>\n",
              "      <td>0</td>\n",
              "      <td>...</td>\n",
              "      <td>0</td>\n",
              "      <td>0</td>\n",
              "      <td>0</td>\n",
              "      <td>0</td>\n",
              "      <td>0</td>\n",
              "      <td>0</td>\n",
              "      <td>0</td>\n",
              "      <td>0</td>\n",
              "      <td>1</td>\n",
              "      <td>0</td>\n",
              "    </tr>\n",
              "    <tr>\n",
              "      <th>1</th>\n",
              "      <td>0</td>\n",
              "      <td>0</td>\n",
              "      <td>0</td>\n",
              "      <td>0</td>\n",
              "      <td>0</td>\n",
              "      <td>0</td>\n",
              "      <td>0</td>\n",
              "      <td>0</td>\n",
              "      <td>0</td>\n",
              "      <td>0</td>\n",
              "      <td>...</td>\n",
              "      <td>0</td>\n",
              "      <td>0</td>\n",
              "      <td>0</td>\n",
              "      <td>0</td>\n",
              "      <td>0</td>\n",
              "      <td>0</td>\n",
              "      <td>0</td>\n",
              "      <td>0</td>\n",
              "      <td>0</td>\n",
              "      <td>0</td>\n",
              "    </tr>\n",
              "    <tr>\n",
              "      <th>2</th>\n",
              "      <td>0</td>\n",
              "      <td>0</td>\n",
              "      <td>0</td>\n",
              "      <td>0</td>\n",
              "      <td>0</td>\n",
              "      <td>1</td>\n",
              "      <td>0</td>\n",
              "      <td>0</td>\n",
              "      <td>0</td>\n",
              "      <td>0</td>\n",
              "      <td>...</td>\n",
              "      <td>0</td>\n",
              "      <td>0</td>\n",
              "      <td>0</td>\n",
              "      <td>0</td>\n",
              "      <td>0</td>\n",
              "      <td>0</td>\n",
              "      <td>0</td>\n",
              "      <td>0</td>\n",
              "      <td>0</td>\n",
              "      <td>0</td>\n",
              "    </tr>\n",
              "    <tr>\n",
              "      <th>3</th>\n",
              "      <td>0</td>\n",
              "      <td>0</td>\n",
              "      <td>0</td>\n",
              "      <td>0</td>\n",
              "      <td>0</td>\n",
              "      <td>0</td>\n",
              "      <td>0</td>\n",
              "      <td>0</td>\n",
              "      <td>0</td>\n",
              "      <td>0</td>\n",
              "      <td>...</td>\n",
              "      <td>0</td>\n",
              "      <td>1</td>\n",
              "      <td>0</td>\n",
              "      <td>0</td>\n",
              "      <td>1</td>\n",
              "      <td>0</td>\n",
              "      <td>0</td>\n",
              "      <td>1</td>\n",
              "      <td>0</td>\n",
              "      <td>0</td>\n",
              "    </tr>\n",
              "    <tr>\n",
              "      <th>4</th>\n",
              "      <td>0</td>\n",
              "      <td>0</td>\n",
              "      <td>0</td>\n",
              "      <td>0</td>\n",
              "      <td>0</td>\n",
              "      <td>0</td>\n",
              "      <td>0</td>\n",
              "      <td>0</td>\n",
              "      <td>0</td>\n",
              "      <td>0</td>\n",
              "      <td>...</td>\n",
              "      <td>0</td>\n",
              "      <td>0</td>\n",
              "      <td>0</td>\n",
              "      <td>0</td>\n",
              "      <td>0</td>\n",
              "      <td>0</td>\n",
              "      <td>0</td>\n",
              "      <td>0</td>\n",
              "      <td>0</td>\n",
              "      <td>0</td>\n",
              "    </tr>\n",
              "  </tbody>\n",
              "</table>\n",
              "<p>5 rows × 292 columns</p>\n",
              "</div>\n",
              "    <div class=\"colab-df-buttons\">\n",
              "\n",
              "  <div class=\"colab-df-container\">\n",
              "    <button class=\"colab-df-convert\" onclick=\"convertToInteractive('df-107c80c6-4c5b-4217-980e-d6144f56e769')\"\n",
              "            title=\"Convert this dataframe to an interactive table.\"\n",
              "            style=\"display:none;\">\n",
              "\n",
              "  <svg xmlns=\"http://www.w3.org/2000/svg\" height=\"24px\" viewBox=\"0 -960 960 960\">\n",
              "    <path d=\"M120-120v-720h720v720H120Zm60-500h600v-160H180v160Zm220 220h160v-160H400v160Zm0 220h160v-160H400v160ZM180-400h160v-160H180v160Zm440 0h160v-160H620v160ZM180-180h160v-160H180v160Zm440 0h160v-160H620v160Z\"/>\n",
              "  </svg>\n",
              "    </button>\n",
              "\n",
              "  <style>\n",
              "    .colab-df-container {\n",
              "      display:flex;\n",
              "      gap: 12px;\n",
              "    }\n",
              "\n",
              "    .colab-df-convert {\n",
              "      background-color: #E8F0FE;\n",
              "      border: none;\n",
              "      border-radius: 50%;\n",
              "      cursor: pointer;\n",
              "      display: none;\n",
              "      fill: #1967D2;\n",
              "      height: 32px;\n",
              "      padding: 0 0 0 0;\n",
              "      width: 32px;\n",
              "    }\n",
              "\n",
              "    .colab-df-convert:hover {\n",
              "      background-color: #E2EBFA;\n",
              "      box-shadow: 0px 1px 2px rgba(60, 64, 67, 0.3), 0px 1px 3px 1px rgba(60, 64, 67, 0.15);\n",
              "      fill: #174EA6;\n",
              "    }\n",
              "\n",
              "    .colab-df-buttons div {\n",
              "      margin-bottom: 4px;\n",
              "    }\n",
              "\n",
              "    [theme=dark] .colab-df-convert {\n",
              "      background-color: #3B4455;\n",
              "      fill: #D2E3FC;\n",
              "    }\n",
              "\n",
              "    [theme=dark] .colab-df-convert:hover {\n",
              "      background-color: #434B5C;\n",
              "      box-shadow: 0px 1px 3px 1px rgba(0, 0, 0, 0.15);\n",
              "      filter: drop-shadow(0px 1px 2px rgba(0, 0, 0, 0.3));\n",
              "      fill: #FFFFFF;\n",
              "    }\n",
              "  </style>\n",
              "\n",
              "    <script>\n",
              "      const buttonEl =\n",
              "        document.querySelector('#df-107c80c6-4c5b-4217-980e-d6144f56e769 button.colab-df-convert');\n",
              "      buttonEl.style.display =\n",
              "        google.colab.kernel.accessAllowed ? 'block' : 'none';\n",
              "\n",
              "      async function convertToInteractive(key) {\n",
              "        const element = document.querySelector('#df-107c80c6-4c5b-4217-980e-d6144f56e769');\n",
              "        const dataTable =\n",
              "          await google.colab.kernel.invokeFunction('convertToInteractive',\n",
              "                                                    [key], {});\n",
              "        if (!dataTable) return;\n",
              "\n",
              "        const docLinkHtml = 'Like what you see? Visit the ' +\n",
              "          '<a target=\"_blank\" href=https://colab.research.google.com/notebooks/data_table.ipynb>data table notebook</a>'\n",
              "          + ' to learn more about interactive tables.';\n",
              "        element.innerHTML = '';\n",
              "        dataTable['output_type'] = 'display_data';\n",
              "        await google.colab.output.renderOutput(dataTable, element);\n",
              "        const docLink = document.createElement('div');\n",
              "        docLink.innerHTML = docLinkHtml;\n",
              "        element.appendChild(docLink);\n",
              "      }\n",
              "    </script>\n",
              "  </div>\n",
              "\n",
              "\n",
              "<div id=\"df-517e8bfc-93d3-4361-b788-82001877c53d\">\n",
              "  <button class=\"colab-df-quickchart\" onclick=\"quickchart('df-517e8bfc-93d3-4361-b788-82001877c53d')\"\n",
              "            title=\"Suggest charts.\"\n",
              "            style=\"display:none;\">\n",
              "\n",
              "<svg xmlns=\"http://www.w3.org/2000/svg\" height=\"24px\"viewBox=\"0 0 24 24\"\n",
              "     width=\"24px\">\n",
              "    <g>\n",
              "        <path d=\"M19 3H5c-1.1 0-2 .9-2 2v14c0 1.1.9 2 2 2h14c1.1 0 2-.9 2-2V5c0-1.1-.9-2-2-2zM9 17H7v-7h2v7zm4 0h-2V7h2v10zm4 0h-2v-4h2v4z\"/>\n",
              "    </g>\n",
              "</svg>\n",
              "  </button>\n",
              "\n",
              "<style>\n",
              "  .colab-df-quickchart {\n",
              "      --bg-color: #E8F0FE;\n",
              "      --fill-color: #1967D2;\n",
              "      --hover-bg-color: #E2EBFA;\n",
              "      --hover-fill-color: #174EA6;\n",
              "      --disabled-fill-color: #AAA;\n",
              "      --disabled-bg-color: #DDD;\n",
              "  }\n",
              "\n",
              "  [theme=dark] .colab-df-quickchart {\n",
              "      --bg-color: #3B4455;\n",
              "      --fill-color: #D2E3FC;\n",
              "      --hover-bg-color: #434B5C;\n",
              "      --hover-fill-color: #FFFFFF;\n",
              "      --disabled-bg-color: #3B4455;\n",
              "      --disabled-fill-color: #666;\n",
              "  }\n",
              "\n",
              "  .colab-df-quickchart {\n",
              "    background-color: var(--bg-color);\n",
              "    border: none;\n",
              "    border-radius: 50%;\n",
              "    cursor: pointer;\n",
              "    display: none;\n",
              "    fill: var(--fill-color);\n",
              "    height: 32px;\n",
              "    padding: 0;\n",
              "    width: 32px;\n",
              "  }\n",
              "\n",
              "  .colab-df-quickchart:hover {\n",
              "    background-color: var(--hover-bg-color);\n",
              "    box-shadow: 0 1px 2px rgba(60, 64, 67, 0.3), 0 1px 3px 1px rgba(60, 64, 67, 0.15);\n",
              "    fill: var(--button-hover-fill-color);\n",
              "  }\n",
              "\n",
              "  .colab-df-quickchart-complete:disabled,\n",
              "  .colab-df-quickchart-complete:disabled:hover {\n",
              "    background-color: var(--disabled-bg-color);\n",
              "    fill: var(--disabled-fill-color);\n",
              "    box-shadow: none;\n",
              "  }\n",
              "\n",
              "  .colab-df-spinner {\n",
              "    border: 2px solid var(--fill-color);\n",
              "    border-color: transparent;\n",
              "    border-bottom-color: var(--fill-color);\n",
              "    animation:\n",
              "      spin 1s steps(1) infinite;\n",
              "  }\n",
              "\n",
              "  @keyframes spin {\n",
              "    0% {\n",
              "      border-color: transparent;\n",
              "      border-bottom-color: var(--fill-color);\n",
              "      border-left-color: var(--fill-color);\n",
              "    }\n",
              "    20% {\n",
              "      border-color: transparent;\n",
              "      border-left-color: var(--fill-color);\n",
              "      border-top-color: var(--fill-color);\n",
              "    }\n",
              "    30% {\n",
              "      border-color: transparent;\n",
              "      border-left-color: var(--fill-color);\n",
              "      border-top-color: var(--fill-color);\n",
              "      border-right-color: var(--fill-color);\n",
              "    }\n",
              "    40% {\n",
              "      border-color: transparent;\n",
              "      border-right-color: var(--fill-color);\n",
              "      border-top-color: var(--fill-color);\n",
              "    }\n",
              "    60% {\n",
              "      border-color: transparent;\n",
              "      border-right-color: var(--fill-color);\n",
              "    }\n",
              "    80% {\n",
              "      border-color: transparent;\n",
              "      border-right-color: var(--fill-color);\n",
              "      border-bottom-color: var(--fill-color);\n",
              "    }\n",
              "    90% {\n",
              "      border-color: transparent;\n",
              "      border-bottom-color: var(--fill-color);\n",
              "    }\n",
              "  }\n",
              "</style>\n",
              "\n",
              "  <script>\n",
              "    async function quickchart(key) {\n",
              "      const quickchartButtonEl =\n",
              "        document.querySelector('#' + key + ' button');\n",
              "      quickchartButtonEl.disabled = true;  // To prevent multiple clicks.\n",
              "      quickchartButtonEl.classList.add('colab-df-spinner');\n",
              "      try {\n",
              "        const charts = await google.colab.kernel.invokeFunction(\n",
              "            'suggestCharts', [key], {});\n",
              "      } catch (error) {\n",
              "        console.error('Error during call to suggestCharts:', error);\n",
              "      }\n",
              "      quickchartButtonEl.classList.remove('colab-df-spinner');\n",
              "      quickchartButtonEl.classList.add('colab-df-quickchart-complete');\n",
              "    }\n",
              "    (() => {\n",
              "      let quickchartButtonEl =\n",
              "        document.querySelector('#df-517e8bfc-93d3-4361-b788-82001877c53d button');\n",
              "      quickchartButtonEl.style.display =\n",
              "        google.colab.kernel.accessAllowed ? 'block' : 'none';\n",
              "    })();\n",
              "  </script>\n",
              "</div>\n",
              "    </div>\n",
              "  </div>\n"
            ]
          },
          "metadata": {},
          "execution_count": 27
        }
      ]
    },
    {
      "cell_type": "code",
      "execution_count": null,
      "metadata": {
        "id": "oMiG5F46t1m6",
        "colab": {
          "base_uri": "https://localhost:8080/"
        },
        "outputId": "a65f728e-b4ee-4290-d6c7-1370d35df2b0"
      },
      "outputs": [
        {
          "output_type": "stream",
          "name": "stdout",
          "text": [
            "==================================\n",
            "Task 3: 2023-09-02 02:03:00.121642\n",
            "==================================\n"
          ]
        }
      ],
      "source": [
        "done('Task 3')"
      ]
    },
    {
      "cell_type": "markdown",
      "source": [
        "## Task 4: Classification\n",
        "\n",
        "Classify the news based on Keywords and BoW you computed in Task 3.1"
      ],
      "metadata": {
        "id": "kCtEg1LNt3CO"
      }
    },
    {
      "cell_type": "code",
      "source": [
        "from sklearn.model_selection import train_test_split\n",
        "from sklearn.naive_bayes import MultinomialNB\n",
        "from sklearn.metrics import accuracy_score\n",
        "\n",
        "# Split the dataset into training and testing sets\n",
        "X_train, X_test, y_train, y_test = train_test_split(bow_df, df['Catogory'], test_size=0.3, random_state=20)\n",
        "\n",
        "# Create a Naive Bayes classifier\n",
        "clf = MultinomialNB()\n",
        "\n",
        "# Train the classifier on the training data\n",
        "clf.fit(X_train, y_train)\n",
        "\n",
        "# Predict the categories for the test data\n",
        "y_pred = clf.predict(X_test)\n",
        "\n",
        "# Calculate accuracy\n",
        "accuracy = accuracy_score(y_test, y_pred)\n",
        "print(\"Accuracy:\", accuracy)\n"
      ],
      "metadata": {
        "id": "Jn6lGM75t3CP",
        "colab": {
          "base_uri": "https://localhost:8080/"
        },
        "outputId": "b1a17e72-ce6f-4124-c0cf-21c6e1ed2d52"
      },
      "execution_count": 30,
      "outputs": [
        {
          "output_type": "stream",
          "name": "stdout",
          "text": [
            "Accuracy: 0.8333333333333334\n"
          ]
        }
      ]
    },
    {
      "cell_type": "code",
      "execution_count": null,
      "metadata": {
        "id": "h8aRgsHVt3CQ",
        "colab": {
          "base_uri": "https://localhost:8080/"
        },
        "outputId": "de8534c9-2f3e-450a-d1c8-dfd0bae711b6"
      },
      "outputs": [
        {
          "output_type": "stream",
          "name": "stdout",
          "text": [
            "==================================\n",
            "Task 4: 2023-09-02 02:03:00.139045\n",
            "==================================\n"
          ]
        }
      ],
      "source": [
        "done('Task 4')"
      ]
    }
  ]
}